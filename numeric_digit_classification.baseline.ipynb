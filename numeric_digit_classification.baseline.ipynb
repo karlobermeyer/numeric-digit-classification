{
 "cells": [
  {
   "cell_type": "markdown",
   "metadata": {},
   "source": [
    "# Digit&nbsp;Classification with a Deep Convolutional&nbsp;Neural&nbsp;Network\n",
    "## LeNet-5 Baseline Testing\n",
    "\n",
    "\n",
    "by Karl J. Obermeyer"
   ]
  },
  {
   "cell_type": "code",
   "execution_count": null,
   "metadata": {
    "collapsed": true
   },
   "outputs": [],
   "source": [
    "#%qtconsole  # For inspecting variables."
   ]
  },
  {
   "cell_type": "code",
   "execution_count": 1,
   "metadata": {
    "collapsed": true
   },
   "outputs": [],
   "source": [
    "# Standard\n",
    "import os\n",
    "from glob import glob  # Unix style pathname pattern expansion.\n",
    "import csv\n",
    "import pickle\n",
    "import time\n",
    "\n",
    "# Scientific Computing and Visualization\n",
    "import numpy as np; np.random.seed(13)  # Lucky seed.\n",
    "import matplotlib.pyplot as plt\n",
    "%matplotlib inline\n",
    "import cv2  # Image processing.\n",
    "\n",
    "# Machine Learning\n",
    "#from sklearn.utils import shuffle  # Used numpy's shuffle instead.\n",
    "#from sklearn.model_selection import train_test_split\n",
    "import tensorflow as tf\n",
    "from tensorflow.contrib.layers import flatten\n",
    "\n",
    "# Project-Specific.\n",
    "# Includes custom functions for\n",
    "# image processing, data manipulation, and dataset visualization.\n",
    "from image_recognition_tools import *"
   ]
  },
  {
   "cell_type": "markdown",
   "metadata": {},
   "source": [
    "## 0&nbsp;&nbsp;&nbsp;Load Data"
   ]
  },
  {
   "cell_type": "code",
   "execution_count": 2,
   "metadata": {},
   "outputs": [
    {
     "name": "stdout",
     "output_type": "stream",
     "text": [
      "Extracting MNIST_data/train-images-idx3-ubyte.gz\n",
      "Extracting MNIST_data/train-labels-idx1-ubyte.gz\n",
      "Extracting MNIST_data/t10k-images-idx3-ubyte.gz\n",
      "Extracting MNIST_data/t10k-labels-idx1-ubyte.gz\n"
     ]
    }
   ],
   "source": [
    "from tensorflow.examples.tutorials.mnist import input_data\n",
    "mnist = input_data.read_data_sets(\"MNIST_data/\", one_hot=True)"
   ]
  },
  {
   "cell_type": "code",
   "execution_count": 3,
   "metadata": {
    "collapsed": true
   },
   "outputs": [],
   "source": [
    "def convert_mnist_dataset_to_standard_form(data):\n",
    "    '''Map pixel values into [0, 255].\n",
    "    '''\n",
    "    example_cnt = data.images.shape[0]\n",
    "    images = 255.0*data.images\n",
    "    np.round(images, out=images)\n",
    "    np.clip(images, 0.0, 255.0, out=images)\n",
    "    X = np.reshape(images, newshape=(example_cnt, 28, 28, 1)).astype(np.uint8)\n",
    "    y = np.argmax(data.labels, axis=1).astype(np.uint8)\n",
    "    return X, y"
   ]
  },
  {
   "cell_type": "code",
   "execution_count": 4,
   "metadata": {
    "collapsed": true
   },
   "outputs": [],
   "source": [
    "X_train, y_train = convert_mnist_dataset_to_standard_form(mnist.train)\n",
    "X_train, y_train = shuffle(X_train, y_train)"
   ]
  },
  {
   "cell_type": "code",
   "execution_count": 5,
   "metadata": {
    "collapsed": true
   },
   "outputs": [],
   "source": [
    "X_validate, y_validate = convert_mnist_dataset_to_standard_form(mnist.validation)\n",
    "X_validate, y_validate = shuffle(X_validate, y_validate)"
   ]
  },
  {
   "cell_type": "code",
   "execution_count": 6,
   "metadata": {
    "collapsed": true
   },
   "outputs": [],
   "source": [
    "X_test, y_test = convert_mnist_dataset_to_standard_form(mnist.test)\n",
    "X_test, y_test = shuffle(X_test, y_test)"
   ]
  },
  {
   "cell_type": "markdown",
   "metadata": {},
   "source": [
    "## 1&nbsp;&nbsp;&nbsp;Dataset Summary, Exploration, and&nbsp;Balancing"
   ]
  },
  {
   "cell_type": "markdown",
   "metadata": {},
   "source": [
    "### Sizes and Shapes"
   ]
  },
  {
   "cell_type": "code",
   "execution_count": 7,
   "metadata": {},
   "outputs": [
    {
     "name": "stdout",
     "output_type": "stream",
     "text": [
      "Number of training examples = 55000\n",
      "Number of validation examples = 5000\n",
      "Number of testing examples = 10000\n",
      "Number of classes = 10\n",
      "Image shape = (28, 28, 1)\n"
     ]
    }
   ],
   "source": [
    "# Number of training examples.\n",
    "training_example_cnt = X_train.shape[0]\n",
    "\n",
    "# Number of validation examples.\n",
    "validation_example_cnt = X_validate.shape[0]\n",
    "\n",
    "# Number of testing examples.\n",
    "test_example_cnt = X_test.shape[0]\n",
    "\n",
    "# List of unique class labels.\n",
    "class_list = list(set(y_train) | set(y_validate) | set(y_test))\n",
    "class_list.sort()\n",
    "\n",
    "# Number of classes in the dataset.\n",
    "class_cnt = len(class_list)  # Should be 0,...,42\n",
    "\n",
    "# Single image shape.\n",
    "image_shape = X_train[0, :].shape\n",
    "\n",
    "print('Number of training examples =', training_example_cnt)\n",
    "print('Number of validation examples =', validation_example_cnt)\n",
    "print('Number of testing examples =', test_example_cnt)\n",
    "print('Number of classes =', class_cnt)\n",
    "print('Image shape =', image_shape)"
   ]
  },
  {
   "cell_type": "markdown",
   "metadata": {},
   "source": [
    "### Exploratory Visualization"
   ]
  },
  {
   "cell_type": "code",
   "execution_count": 8,
   "metadata": {
    "collapsed": true
   },
   "outputs": [],
   "source": [
    "X_all, y_all = combine(\n",
    "    X_train, y_train, X_validate, y_validate, X_test, y_test)\n",
    "images_by_label = sort_by_class(X_all, y_all, class_list)"
   ]
  },
  {
   "cell_type": "code",
   "execution_count": 9,
   "metadata": {},
   "outputs": [
    {
     "data": {
      "image/png": "[encoded data removed]",
      "text/plain": [
       "<matplotlib.figure.Figure at 0x7f2e00b487f0>"
      ]
     },
     "metadata": {},
     "output_type": "display_data"
    }
   ],
   "source": [
    "plot_representative_images(\n",
    "    images_by_label, class_cnt=class_cnt, english_labels=None, method='mean')\n",
    "#plt.savefig('./fig/class_representative_images.png')"
   ]
  },
  {
   "cell_type": "code",
   "execution_count": 10,
   "metadata": {},
   "outputs": [
    {
     "data": {
      "image/png": "[encoded data removed]",
      "text/plain": [
       "<matplotlib.figure.Figure at 0x7f2d9d2d5ef0>"
      ]
     },
     "metadata": {},
     "output_type": "display_data"
    }
   ],
   "source": [
    "class_histograms(y_train, y_validate, y_test, class_cnt=class_cnt)\n",
    "#plt.savefig('./fig/class_histograms.png')"
   ]
  },
  {
   "cell_type": "markdown",
   "metadata": {},
   "source": [
    "### Data Augmentation"
   ]
  },
  {
   "cell_type": "code",
   "execution_count": 11,
   "metadata": {},
   "outputs": [
    {
     "data": {
      "image/png": "[encoded data removed]",
      "text/plain": [
       "<matplotlib.figure.Figure at 0x7f2d9ae08550>"
      ]
     },
     "metadata": {},
     "output_type": "display_data"
    }
   ],
   "source": [
    "image = X_train[100, :]\n",
    "test_randomly_perturb(\n",
    "    image,\n",
    "    brightness_radius=0.3,\n",
    "    rotation_radius=30.0,\n",
    "    translation_radius=3,\n",
    "    shear_radius=3)\n",
    "#plt.savefig('./fig/image_perturbations_example.png')"
   ]
  },
  {
   "cell_type": "code",
   "execution_count": 12,
   "metadata": {
    "collapsed": true
   },
   "outputs": [],
   "source": [
    "DATAPOINTS_PER_CLASS_AFTER_AUGMENTATION = 7000  # Default 7000.\n",
    "X_train_augmented, y_train_augmented = balance(\n",
    "    X_train, y_train, class_list,\n",
    "    datapoint_cnt_per_class=DATAPOINTS_PER_CLASS_AFTER_AUGMENTATION,\n",
    "    perturb=True)"
   ]
  },
  {
   "cell_type": "code",
   "execution_count": 13,
   "metadata": {},
   "outputs": [
    {
     "name": "stdout",
     "output_type": "stream",
     "text": [
      "Number of augmented training examples = 70000\n"
     ]
    }
   ],
   "source": [
    "print('Number of augmented training examples =', len(y_train_augmented))"
   ]
  },
  {
   "cell_type": "markdown",
   "metadata": {},
   "source": [
    "## 2&nbsp;&nbsp;&nbsp;CNN Architecture&nbsp;and&nbsp;Testing"
   ]
  },
  {
   "cell_type": "markdown",
   "metadata": {},
   "source": [
    "<img src=\"./fig/cnn_architecture-horizontal.png\" alt=\"Drawing\" style=\"width: 700px; margin: 0 auto\"/>"
   ]
  },
  {
   "cell_type": "markdown",
   "metadata": {},
   "source": [
    "### Image Preprocessing: Brightness Equalization and&nbsp;Normalization."
   ]
  },
  {
   "cell_type": "code",
   "execution_count": 14,
   "metadata": {},
   "outputs": [
    {
     "data": {
      "image/png": "[encoded data removed]",
      "text/plain": [
       "<matplotlib.figure.Figure at 0x7f2d9a773b70>"
      ]
     },
     "metadata": {},
     "output_type": "display_data"
    }
   ],
   "source": [
    "test_histogram_equalize_brightness(X_train[100, :])"
   ]
  },
  {
   "cell_type": "code",
   "execution_count": 15,
   "metadata": {
    "collapsed": true
   },
   "outputs": [],
   "source": [
    "def preprocess(X):\n",
    "    '''Prepare numpy array of images for input into CNN.\n",
    "    \n",
    "    Args:\n",
    "        X: numpy array of images, e.g., as X_train,\n",
    "          X_validate, or X_test.\n",
    "    \n",
    "    Returns:\n",
    "        X_in: numpy array of normalized gray images.\n",
    "    '''\n",
    "    X_in = np.zeros(\n",
    "        (X.shape[0], X.shape[1], X.shape[2], 1), dtype=np.float32)\n",
    "\n",
    "    for i, image in enumerate(X):\n",
    "        image = histogram_equalize_brightness(image)\n",
    "        #X_in[i, :] = normalize(image)[:, :, None]  # Adds degenerate dimension.\n",
    "        X_in[i, :] = normalize(image)\n",
    "            \n",
    "    return X_in"
   ]
  },
  {
   "cell_type": "code",
   "execution_count": 16,
   "metadata": {
    "collapsed": true
   },
   "outputs": [],
   "source": [
    "TRAIN_WITH_AUGMENTED_DATA = False\n",
    "if TRAIN_WITH_AUGMENTED_DATA:\n",
    "    X_train_augmented_in = preprocess(X_train_augmented)\n",
    "    X_train_in = X_train_augmented_in\n",
    "    y_train = y_train_augmented\n",
    "else:\n",
    "    X_train_in = preprocess(X_train)"
   ]
  },
  {
   "cell_type": "code",
   "execution_count": 17,
   "metadata": {
    "collapsed": true
   },
   "outputs": [],
   "source": [
    "X_validate_in = preprocess(X_validate)"
   ]
  },
  {
   "cell_type": "code",
   "execution_count": 18,
   "metadata": {
    "collapsed": true
   },
   "outputs": [],
   "source": [
    "X_test_in = preprocess(X_test)"
   ]
  },
  {
   "cell_type": "markdown",
   "metadata": {},
   "source": [
    "### TensorFlow Graph Definition"
   ]
  },
  {
   "cell_type": "code",
   "execution_count": 19,
   "metadata": {
    "collapsed": true
   },
   "outputs": [],
   "source": [
    "def kjo_net(X_in, keep_probability):\n",
    "    '''CNN Architecture.\n",
    "    \n",
    "    Args:\n",
    "        X_in: tf.placeholder(tf.float32, (None, 28, 28, 1)), preprocessed images.\n",
    "        keep_probability: tf.placeholder(tf.float32), probability of keeping nodes\n",
    "            during dropout.\n",
    "    \n",
    "    Returns:\n",
    "        logits\n",
    "    '''\n",
    "    # Hyperparameters used with tf.truncated_normal to set random\n",
    "    # initial values of the weights and biases in each layer.\n",
    "    mu = 0.0  # Default 0.0\n",
    "    sigma = 0.1  # Default 0.1\n",
    "    #\n",
    "    # If using ReLU activations, initialize with slight positive bias, e.g., 0.1,\n",
    "    # to avoid \"dead neurons\". \n",
    "    initial_bias = 0.05\n",
    "    \n",
    "    \n",
    "    # Layer 1: Convolutional, 28x28x1 --> 24x24x6.\n",
    "    # In nominal LeNet was 32x32x1 --> 28x28x6.\n",
    "    # shape := (\n",
    "    #   filter_height,\n",
    "    #   filter_width,\n",
    "    #   input_depth aka input_channel_cnt,\n",
    "    #   output_depth aka output_channel_cnt).\n",
    "    conv1_W = tf.Variable(\n",
    "        tf.truncated_normal(shape=(5, 5, 1, 6), mean=mu, stddev=sigma),\n",
    "        name='conv1_W')\n",
    "    conv1_b = tf.Variable(tf.zeros(6) + initial_bias, name='conv1_b')\n",
    "    conv1 = tf.nn.conv2d(\n",
    "        X_in, conv1_W, strides=[1, 1, 1, 1], padding='VALID') + conv1_b\n",
    "    conv1 = tf.nn.relu(conv1)  # Activation.\n",
    "    #\n",
    "    # Pooling. 24x24x6 --> 12x12x6.\n",
    "    # In nominal LeNet was 28x28x6 --> 14x14x6.\n",
    "    conv1 = tf.nn.max_pool(\n",
    "        conv1, ksize=[1, 2, 2, 1],\n",
    "        strides=[1, 2, 2, 1], padding='VALID')\n",
    "\n",
    "    \n",
    "    # Layer 2: Convolutional, 12x12x6 --> 8x8x16.\n",
    "    # In nominal LeNet was 14x14x6 --> 10x10x16.\n",
    "    conv2_W = tf.Variable(\n",
    "        tf.truncated_normal(shape=(5, 5, 6, 16), mean=mu, stddev=sigma),\n",
    "        name='conv2_W')\n",
    "    conv2_b = tf.Variable(tf.zeros(16) + initial_bias, name='conv2_b')\n",
    "    conv2 = tf.nn.conv2d(\n",
    "        conv1, conv2_W, strides=[1, 1, 1, 1], padding='VALID') + conv2_b\n",
    "    conv2 = tf.nn.relu(conv2)  # Activation.\n",
    "    #\n",
    "    # Pooling, 8x8x16 --> 4x4x16.\n",
    "    # In nominal LeNet was 10x10x16 --> 5x5x16.\n",
    "    conv2 = tf.nn.max_pool(\n",
    "        conv2, ksize=[1, 2, 2, 1], strides=[1, 2, 2, 1], padding='VALID')\n",
    "    \n",
    "    \n",
    "    # Flatten layer, 4x4x16 --> 256.\n",
    "    # In nominal LeNet was 5x5x16 --> 400.\n",
    "    # Flattens tensor into 2 dimensions (batches, length).\n",
    "    fc0 = flatten(conv2)\n",
    "    \n",
    "    \n",
    "    # Layer 3: Fully Connected, 256 --> 120.\n",
    "    # In nominal LeNet was 400 --> 120.\n",
    "    fc1_W = tf.Variable(\n",
    "        tf.truncated_normal(shape=(256, 120), mean=mu, stddev=sigma),\n",
    "        name='fc1_W')\n",
    "    fc1_b = tf.Variable(tf.zeros(120) + initial_bias, name='fc1_b')\n",
    "    fc1 = tf.matmul(fc0, fc1_W) + fc1_b\n",
    "    fc1 = tf.nn.relu(fc1)  # Activation.\n",
    "    #\n",
    "    # Dropout. \n",
    "    fc1 = tf.nn.dropout(fc1, keep_probability)\n",
    "    \n",
    "    \n",
    "    # Layer 4: Fully Connected, 120 --> 84.\n",
    "    # In nominal LeNet was 120 --> 84.\n",
    "    fc2_W = tf.Variable(\n",
    "        tf.truncated_normal(shape=(120, 84), mean=mu, stddev=sigma),\n",
    "        name='fc2_W')\n",
    "    fc2_b = tf.Variable(tf.zeros(84) + initial_bias, name='fc2_b')\n",
    "    fc2 = tf.matmul(fc1, fc2_W) + fc2_b\n",
    "    fc2 = tf.nn.relu(fc2)  # Activation.\n",
    "    # Dropout. \n",
    "    fc2 = tf.nn.dropout(fc2, keep_probability)\n",
    "    \n",
    "    \n",
    "    # Layer 5: Fully Connected, 84 --> class_cnt (default 10).\n",
    "    # In nominal LeNet was 84 --> 10.\n",
    "    fc3_W = tf.Variable(\n",
    "        tf.truncated_normal(shape=(84, class_cnt), mean=mu, stddev=sigma),\n",
    "        name='fc3_W')\n",
    "    fc3_b = tf.Variable(tf.zeros(class_cnt) + initial_bias, name='fc3_b')\n",
    "    logits = tf.matmul(fc2, fc3_W) + fc3_b\n",
    "    \n",
    "    \n",
    "    return logits"
   ]
  },
  {
   "cell_type": "markdown",
   "metadata": {},
   "source": [
    "### Training and Validation\n",
    "\n",
    "The code in this section was used to perform validation runs to determine a good `KEEP_PROBABILITY` value for dropout regularization.  Of the validated values, 0.6 was the best and was used for final testing.  Note: output from validation sessions has been omitted as it was extremely long.  Only the output of the final training session is included in the next section."
   ]
  },
  {
   "cell_type": "code",
   "execution_count": 20,
   "metadata": {
    "collapsed": true
   },
   "outputs": [],
   "source": [
    "# Hyperparameters.\n",
    "LEARNING_RATE = 0.001 # Default 0.001\n",
    "EPOCH_CNT = 30  # Number of times to run over training data. Default 30.\n",
    "BATCH_SIZE = 256  # Datapoints to consider per backprop pass. Default 256.\n",
    "KEEP_PROBABILITY = 1.0  # For dropout regularization.  Try 0.5, 0.6, 0.7, 1.0"
   ]
  },
  {
   "cell_type": "code",
   "execution_count": 21,
   "metadata": {
    "collapsed": true
   },
   "outputs": [],
   "source": [
    "# Input images and output labels.\n",
    "X_in = tf.placeholder(tf.float32, (None, 28, 28, 1))  # None => arbitrary batch size.\n",
    "y = tf.placeholder(tf.int32, (None))  # None => arbitrary batch size.\n",
    "keep_probability = tf.placeholder(tf.float32)\n",
    "y_one_hot = tf.one_hot(y, class_cnt)\n",
    "#keep_probability = tf.placeholder(tf.float32)"
   ]
  },
  {
   "cell_type": "code",
   "execution_count": 22,
   "metadata": {
    "collapsed": true
   },
   "outputs": [],
   "source": [
    "logits = kjo_net(X_in, keep_probability)\n",
    "cross_entropy = tf.nn.softmax_cross_entropy_with_logits(\n",
    "    labels=y_one_hot, logits=logits)\n",
    "loss_operation = tf.reduce_mean(cross_entropy)\n",
    "optimizer = tf.train.AdamOptimizer(learning_rate=LEARNING_RATE)\n",
    "training_operation = optimizer.minimize(loss_operation)\n",
    "correct_prediction = tf.equal(tf.argmax(logits, 1), tf.argmax(y_one_hot, 1))\n",
    "accuracy_operation = tf.reduce_mean(tf.cast(correct_prediction, tf.float32))"
   ]
  },
  {
   "cell_type": "code",
   "execution_count": 23,
   "metadata": {
    "collapsed": true
   },
   "outputs": [],
   "source": [
    "# To save parameters for re-use.\n",
    "saver = tf.train.Saver()  # Must be initialized after tf symbolic variables.\n",
    "validation_save_filename = './kjo_net.validation.ckpt'"
   ]
  },
  {
   "cell_type": "code",
   "execution_count": 24,
   "metadata": {
    "collapsed": true
   },
   "outputs": [],
   "source": [
    "def compute_accuracy(session, X_in_, y_):\n",
    "    '''Compute model accuracy.\n",
    "    \n",
    "    ::WARNING:: The trailing underscores on the argument variable names\n",
    "    are to prevent collision with global tensoflow variables X_in and y.\n",
    "    \n",
    "    Args:\n",
    "        session: tf.session.\n",
    "        X_in_: np.array, preprocessed inputs.\n",
    "        y_: np.array, outputs corresponding to X_in.\n",
    "        \n",
    "    Returns:\n",
    "        float, accuracy of model applied to (X_in, y).\n",
    "    '''\n",
    "    \n",
    "    #session = tf.get_default_session()\n",
    "    example_cnt = len(X_in_)\n",
    "    total_accuracy = 0\n",
    "    for offset in range(0, example_cnt, BATCH_SIZE):\n",
    "        batch_X_in, batch_y = \\\n",
    "            X_in_[offset:offset+BATCH_SIZE], \\\n",
    "            y_[offset:offset+BATCH_SIZE]\n",
    "        accuracy = session.run(\n",
    "            accuracy_operation,\n",
    "            feed_dict={X_in: batch_X_in, y: batch_y, keep_probability: 1.0})\n",
    "        total_accuracy += (accuracy * len(batch_X_in))\n",
    "        \n",
    "    return total_accuracy / example_cnt"
   ]
  },
  {
   "cell_type": "code",
   "execution_count": 25,
   "metadata": {
    "scrolled": false
   },
   "outputs": [
    {
     "name": "stdout",
     "output_type": "stream",
     "text": [
      "Training...\n",
      "\n",
      "EPOCH 1 ...\n",
      "Training Accuracy = 0.949\n",
      "Validation Accuracy = 0.954\n",
      "\n",
      "EPOCH 2 ...\n",
      "Training Accuracy = 0.971\n",
      "Validation Accuracy = 0.972\n",
      "\n",
      "EPOCH 3 ...\n",
      "Training Accuracy = 0.978\n",
      "Validation Accuracy = 0.980\n",
      "\n",
      "EPOCH 4 ...\n",
      "Training Accuracy = 0.983\n",
      "Validation Accuracy = 0.981\n",
      "\n",
      "EPOCH 5 ...\n",
      "Training Accuracy = 0.984\n",
      "Validation Accuracy = 0.983\n",
      "\n",
      "EPOCH 6 ...\n",
      "Training Accuracy = 0.988\n",
      "Validation Accuracy = 0.985\n",
      "\n",
      "EPOCH 7 ...\n",
      "Training Accuracy = 0.988\n",
      "Validation Accuracy = 0.983\n",
      "\n",
      "EPOCH 8 ...\n",
      "Training Accuracy = 0.989\n",
      "Validation Accuracy = 0.986\n",
      "\n",
      "EPOCH 9 ...\n",
      "Training Accuracy = 0.992\n",
      "Validation Accuracy = 0.984\n",
      "\n",
      "EPOCH 10 ...\n",
      "Training Accuracy = 0.992\n",
      "Validation Accuracy = 0.988\n",
      "\n",
      "EPOCH 11 ...\n",
      "Training Accuracy = 0.993\n",
      "Validation Accuracy = 0.988\n",
      "\n",
      "EPOCH 12 ...\n",
      "Training Accuracy = 0.994\n",
      "Validation Accuracy = 0.987\n",
      "\n",
      "EPOCH 13 ...\n",
      "Training Accuracy = 0.996\n",
      "Validation Accuracy = 0.986\n",
      "\n",
      "EPOCH 14 ...\n",
      "Training Accuracy = 0.993\n",
      "Validation Accuracy = 0.987\n",
      "\n",
      "EPOCH 15 ...\n",
      "Training Accuracy = 0.997\n",
      "Validation Accuracy = 0.988\n",
      "\n",
      "EPOCH 16 ...\n",
      "Training Accuracy = 0.996\n",
      "Validation Accuracy = 0.989\n",
      "\n",
      "EPOCH 17 ...\n",
      "Training Accuracy = 0.997\n",
      "Validation Accuracy = 0.989\n",
      "\n",
      "EPOCH 18 ...\n",
      "Training Accuracy = 0.997\n",
      "Validation Accuracy = 0.991\n",
      "\n",
      "EPOCH 19 ...\n",
      "Training Accuracy = 0.996\n",
      "Validation Accuracy = 0.987\n",
      "\n",
      "EPOCH 20 ...\n",
      "Training Accuracy = 0.998\n",
      "Validation Accuracy = 0.990\n",
      "\n",
      "EPOCH 21 ...\n",
      "Training Accuracy = 0.998\n",
      "Validation Accuracy = 0.990\n",
      "\n",
      "EPOCH 22 ...\n",
      "Training Accuracy = 0.998\n",
      "Validation Accuracy = 0.987\n",
      "\n",
      "EPOCH 23 ...\n",
      "Training Accuracy = 0.996\n",
      "Validation Accuracy = 0.986\n",
      "\n",
      "EPOCH 24 ...\n",
      "Training Accuracy = 0.998\n",
      "Validation Accuracy = 0.988\n",
      "\n",
      "EPOCH 25 ...\n",
      "Training Accuracy = 0.999\n",
      "Validation Accuracy = 0.993\n",
      "\n",
      "EPOCH 26 ...\n",
      "Training Accuracy = 0.998\n",
      "Validation Accuracy = 0.988\n",
      "\n",
      "EPOCH 27 ...\n",
      "Training Accuracy = 0.996\n",
      "Validation Accuracy = 0.989\n",
      "\n",
      "EPOCH 28 ...\n",
      "Training Accuracy = 0.998\n",
      "Validation Accuracy = 0.988\n",
      "\n",
      "EPOCH 29 ...\n",
      "Training Accuracy = 0.999\n",
      "Validation Accuracy = 0.987\n",
      "\n",
      "EPOCH 30 ...\n",
      "Training Accuracy = 0.998\n",
      "Validation Accuracy = 0.989\n",
      "\n",
      "Model saved\n",
      "Wallclock time elapsed: 86.102 s = 1.435 m = 0.024 h.\n"
     ]
    }
   ],
   "source": [
    "start_time = time.time()\n",
    "accuracies_train = []\n",
    "accuracies_validate = []\n",
    "\n",
    "with tf.Session() as session:\n",
    "    session.run(tf.global_variables_initializer())\n",
    "    example_cnt = len(X_train_in)\n",
    "    print('Training...\\n')\n",
    "    for i in range(EPOCH_CNT):\n",
    "        \n",
    "        X_train_in, y_train = shuffle(X_train_in, y_train)\n",
    "        for offset in range(0, example_cnt, BATCH_SIZE):\n",
    "            end = offset + BATCH_SIZE\n",
    "            batch_X_in, batch_y = X_train_in[offset:end], y_train[offset:end]\n",
    "            session.run(\n",
    "                training_operation,\n",
    "                feed_dict={X_in: batch_X_in, y: batch_y, keep_probability: KEEP_PROBABILITY})\n",
    "            \n",
    "        accuracy_train = compute_accuracy(session, X_train_in, y_train)\n",
    "        accuracies_train.append(accuracy_train)\n",
    "        \n",
    "        accuracy_validate = compute_accuracy(session, X_validate_in, y_validate)\n",
    "        accuracies_validate.append(accuracy_validate)\n",
    "        \n",
    "        print('EPOCH {} ...'.format(i+1))\n",
    "        #print(\"Loss = {:.3f}\".format(loss))\n",
    "        print('Training Accuracy = {:.3f}'.format(accuracy_train))\n",
    "        print('Validation Accuracy = {:.3f}'.format(accuracy_validate))\n",
    "        print()\n",
    "        \n",
    "    saver.save(session, validation_save_filename)\n",
    "    print(\"Model saved\")\n",
    "\n",
    "dt_s = time.time() - start_time\n",
    "dt_m = dt_s / 60.0\n",
    "dt_h = dt_s / 3600.0\n",
    "print('Wallclock time elapsed:' \\\n",
    "    ' {:.3f} s = {:.3f} m = {:.3f} h.'.format(dt_s, dt_m, dt_h))"
   ]
  },
  {
   "cell_type": "code",
   "execution_count": 26,
   "metadata": {},
   "outputs": [
    {
     "data": {
      "image/png": "[encoded data removed]",
      "text/plain": [
       "<matplotlib.figure.Figure at 0x7f2d9ae2d630>"
      ]
     },
     "metadata": {},
     "output_type": "display_data"
    }
   ],
   "source": [
    "# Plot accuracies vs epoch.\n",
    "plt.plot(\n",
    "    np.arange(EPOCH_CNT), accuracies_train,\n",
    "    label='training accuracy', zorder=0, linewidth=3)\n",
    "plt.plot(\n",
    "    np.arange(EPOCH_CNT), accuracies_validate,\n",
    "    label='validation accuracy', zorder=0, linewidth=3)\n",
    "plt.title('Accuracies vs Epoch', fontsize=16, fontweight='bold')\n",
    "plt.xlabel('Epoch', fontsize=14, fontweight='bold')\n",
    "plt.ylabel('Accuracy', fontsize=14, fontweight='bold')\n",
    "legend = plt.legend(numpoints=1)\n",
    "plt.setp(legend.get_texts(), fontsize='14', fontweight='bold')\n",
    "ax = plt.gca()\n",
    "#plt.axis('equal') # Defective so use set_aspect instead?\n",
    "#ax.set_aspect('equal', adjustable='box')\n",
    "ax.margins(0.1)\n",
    "#ax.set_yscale('log')\n",
    "#ax.autoscale(tight=True)\n",
    "#plt.xlim((0, 2000.0))\n",
    "#plt.ylim((0, 1000.0))\n",
    "plt.grid(True)\n",
    "plt.show()\n",
    "#plt.savefig('./fig/accuracies_vs_epoch.png')"
   ]
  },
  {
   "cell_type": "code",
   "execution_count": 27,
   "metadata": {},
   "outputs": [
    {
     "name": "stdout",
     "output_type": "stream",
     "text": [
      "Test Accuracy = 0.988\n"
     ]
    }
   ],
   "source": [
    "with tf.Session() as session:\n",
    "    #saver = tf.train.import_meta_graph('kjo_net.meta')\n",
    "    #saver.restore(session, tf.train.latest_checkpoint('.'))\n",
    "    saver.restore(session, validation_save_filename)\n",
    "    test_accuracy = compute_accuracy(session, X_test_in, y_test)\n",
    "    print('Test Accuracy = {:.3f}'.format(test_accuracy))"
   ]
  },
  {
   "cell_type": "markdown",
   "metadata": {},
   "source": [
    "### Final Training and Testing\n",
    "\n",
    "In this section we add the balanced validation set to the balanced training set and re-train to get the final network parameters. This should only be done for the final training, i.e., after architecture and hyperparameters have been fixed based on validation performance. If you do not wait to combine training and validation sets until the final training, then you are data snooping!"
   ]
  },
  {
   "cell_type": "code",
   "execution_count": null,
   "metadata": {
    "collapsed": true
   },
   "outputs": [],
   "source": [
    "X_train_final_in, y_train_final = combine(\n",
    "    X_train_in, y_train, X_validate_in, y_validate)\n",
    "print('Number of datapoints in final training set:', len(y_train_final)) "
   ]
  },
  {
   "cell_type": "code",
   "execution_count": null,
   "metadata": {
    "collapsed": true
   },
   "outputs": [],
   "source": [
    "# To save parameters for re-use.\n",
    "testing_save_filename = './kjo_net.testing.ckpt'"
   ]
  },
  {
   "cell_type": "code",
   "execution_count": null,
   "metadata": {
    "collapsed": true,
    "scrolled": false
   },
   "outputs": [],
   "source": [
    "start_time = time.time()\n",
    "accuracies_train = []\n",
    "accuracies_test = []\n",
    "\n",
    "with tf.Session() as session:\n",
    "    session.run(tf.global_variables_initializer())\n",
    "    example_cnt = len(X_train_final_in)\n",
    "    print('Training...\\n')\n",
    "    for i in range(EPOCH_CNT):\n",
    "        \n",
    "        X_train_final_in, y_train_final = shuffle(X_train_final_in, y_train_final)\n",
    "        for offset in range(0, example_cnt, BATCH_SIZE):\n",
    "            end = offset + BATCH_SIZE\n",
    "            batch_X_in, batch_y = X_train_final_in[offset:end], y_train_final[offset:end]\n",
    "            session.run(\n",
    "                training_operation,\n",
    "                feed_dict={X_in: batch_X_in, y: batch_y, keep_probability: KEEP_PROBABILITY})\n",
    "            \n",
    "        accuracy_train = compute_accuracy(session, X_train_final_in, y_train_final)\n",
    "        accuracies_train.append(accuracy_train)\n",
    "        \n",
    "        accuracy_test = compute_accuracy(session, X_test_in, y_test)\n",
    "        accuracies_test.append(accuracy_test)\n",
    "\n",
    "        print('EPOCH {} ...'.format(i+1))\n",
    "        #print(\"Loss = {:.3f}\".format(loss))\n",
    "        print('Training Accuracy = {:.3f}'.format(accuracy_train))\n",
    "        print('Test Accuracy = {:.3f}'.format(accuracy_test))\n",
    "        print()\n",
    "        \n",
    "    saver.save(session, testing_save_filename)\n",
    "    print(\"Model saved\")\n",
    "\n",
    "dt_s = time.time() - start_time\n",
    "dt_m = dt_s / 60.0\n",
    "dt_h = dt_s / 3600.0\n",
    "print('Wallclock time elapsed:' \\\n",
    "    ' {:.3f} s = {:.3f} m = {:.3f} h.'.format(dt_s, dt_m, dt_h))"
   ]
  },
  {
   "cell_type": "code",
   "execution_count": null,
   "metadata": {
    "collapsed": true
   },
   "outputs": [],
   "source": [
    "# Plot accuracies vs epoch.\n",
    "plt.plot(\n",
    "    np.arange(EPOCH_CNT), accuracies_train,\n",
    "    label='training accuracy', zorder=0, linewidth=3)\n",
    "plt.plot(\n",
    "    np.arange(EPOCH_CNT), accuracies_test,\n",
    "    label='test accuracy', zorder=0, linewidth=3)\n",
    "plt.title('Accuracies vs Epoch', fontsize=16, fontweight='bold')\n",
    "plt.xlabel('Epoch', fontsize=14, fontweight='bold')\n",
    "plt.ylabel('Accuracy', fontsize=14, fontweight='bold')\n",
    "legend = plt.legend(numpoints=1)\n",
    "plt.setp(legend.get_texts(), fontsize='14', fontweight='bold')\n",
    "ax = plt.gca()\n",
    "#plt.axis('equal') # Defective so use set_aspect instead?\n",
    "#ax.set_aspect('equal', adjustable='box')\n",
    "ax.margins(0.1)\n",
    "#ax.set_yscale('log')\n",
    "#ax.autoscale(tight=True)\n",
    "#plt.xlim((0, 2000.0))\n",
    "#plt.ylim((0, 1000.0))\n",
    "plt.grid(True)\n",
    "#plt.savefig('./fig/accuracies_vs_epoch-final.png')"
   ]
  },
  {
   "cell_type": "markdown",
   "metadata": {},
   "source": [
    "Since the gap between training and test accuracy is relatively small, and the accuracies increased roughly monotonically during training, I believe the model is well-fitting (i.e. not over- or underfitting)."
   ]
  },
  {
   "cell_type": "markdown",
   "metadata": {},
   "source": [
    "## 3&nbsp;&nbsp;&nbsp;Examining&nbsp;Performance on Individual&nbsp;Images\n",
    "\n",
    "We now examine our classifier's performance on 5 individual test images."
   ]
  },
  {
   "cell_type": "markdown",
   "metadata": {},
   "source": [
    "### Load and Plot Images"
   ]
  },
  {
   "cell_type": "code",
   "execution_count": null,
   "metadata": {
    "collapsed": true
   },
   "outputs": [],
   "source": [
    "# Load new images.\n",
    "new_datapoint_cnt = 5\n",
    "ix_offset = 13\n",
    "X_new = X_test[ix_offset:new_datapoint_cnt + ix_offset, :]\n",
    "y_new = y_test[ix_offset:new_datapoint_cnt + ix_offset]\n",
    "\n",
    "# Plot new images.\n",
    "plot_images(X_new, y_new, english_labels=None)\n",
    "#plt.savefig('./fig/new_images.png')"
   ]
  },
  {
   "cell_type": "markdown",
   "metadata": {},
   "source": [
    "### Predictions and Top 5 Softmax Probabilities for Each Image"
   ]
  },
  {
   "cell_type": "code",
   "execution_count": null,
   "metadata": {
    "collapsed": true
   },
   "outputs": [],
   "source": [
    "X_new_in = preprocess(X_new)\n",
    "\n",
    "with tf.Session() as session:\n",
    "    #session.run(tf.global_variables_initializer())\n",
    "    #saver = tf.train.import_meta_graph('kjo_net.meta')\n",
    "    #saver.restore(session, tf.train.latest_checkpoint('.'))\n",
    "    saver.restore(session, testing_save_filename)\n",
    "    top_k = session.run(\n",
    "        tf.nn.top_k(tf.nn.softmax(logits), k=5),\n",
    "        feed_dict={X_in: X_new_in, keep_probability: 1.0})\n",
    "    test_accuracy = compute_accuracy(session, X_new_in, y_new)\n",
    "    \n",
    "# Plot softmax probabilities.\n",
    "ixs = np.arange(X_new.shape[0])\n",
    "probabilities, classes = top_k\n",
    "probability_barh_width = 14.5\n",
    "probability_barh_height = 3\n",
    "for i, image in enumerate(X_new):\n",
    "    \n",
    "    print('\\nImage %g\\n  Truth class %g\\n  Predicted class %g' % \\\n",
    "      (i, y_new[i], top_k[1][i, 0]))\n",
    "\n",
    "    fig, axes = plt.subplots(\n",
    "        1, 2, figsize=(probability_barh_width, probability_barh_height))\n",
    "    plt.subplot(1, 2, 1)\n",
    "    plt.imshow(image.squeeze(), cmap='gray')\n",
    "    plt.xticks(np.array([]))\n",
    "    plt.yticks(np.array([]))\n",
    "    plt.subplot(1, 2, 2)\n",
    "    ax = plt.gca()\n",
    "    plt.barh(ixs, probabilities[i], height=0.5, align='center')\n",
    "    y_tick_labels = []    \n",
    "    for j in ixs: \n",
    "        label = str(classes[i][j])\n",
    "        y_tick_labels.append(truncate_string(label, ubnd=25))\n",
    "    plt.yticks( ixs, y_tick_labels)\n",
    "    plt.title('Top 5 Class Probabilities')\n",
    "    #plt.xlabel('Probability')\n",
    "    #ax = plt.gca(); ax.set_xscale('log') \n",
    "    ax.invert_yaxis()\n",
    "    for i, value in enumerate(probabilities[i]):\n",
    "        ax.text(value + 0.03, i + .03, str(value), color='blue', fontweight='bold')\n",
    "    ax.spines['top'].set_visible(False)\n",
    "    ax.spines['right'].set_visible(False)\n",
    "    plt.xlim(0.0, 1.0)\n",
    "    \n",
    "    plt.show();\n",
    "    #plt.savefig('./fig/new_image-%03g.top_softmax_probabilities.png' % i)\n",
    "    \n",
    "print('Test Accuracy on new images = {:.3f}'.format(test_accuracy)) "
   ]
  },
  {
   "cell_type": "markdown",
   "metadata": {},
   "source": [
    "## References\n",
    "\n",
    "[0] Y. LeCun and C. Cortes and C. J. C. Burges, [The MNIST Database of Handwritten Digits](http://yann.lecun.com/exdb/mnist/)\n",
    "\n",
    "[1] Y. LeCun and L. Bottou and Y. Bengio and P. Haffner, [Gradient-Based Learning Applied to Document Recognition](http://yann.lecun.com/exdb/publis/pdf/lecun-98.pdf), Proceedings of the IEEE, 86(11):2278-2324, November 1998. Note: Lenet-5.\n",
    "\n",
    "[2] G. E Hinton and N. Srivastava and A. Krizhevsky and I. Sutskever and R. R. Salakhutdinov, \"Improving neural networks by preventing co-adaptation of feature detectors\", ArXiv preprint, [https://arxiv.org/abs/1207.0580](https://arxiv.org/abs/1207.0580). Note: Dropout."
   ]
  }
 ],
 "metadata": {
  "kernelspec": {
   "display_name": "Python 3",
   "language": "python",
   "name": "python3"
  },
  "language_info": {
   "codemirror_mode": {
    "name": "ipython",
    "version": 3
   },
   "file_extension": ".py",
   "mimetype": "text/x-python",
   "name": "python",
   "nbconvert_exporter": "python",
   "pygments_lexer": "ipython3",
   "version": "3.5.2"
  },
  "widgets": {
   "state": {},
   "version": "1.1.2"
  }
 },
 "nbformat": 4,
 "nbformat_minor": 2
}
